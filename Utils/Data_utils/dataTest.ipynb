{
 "cells": [
  {
   "cell_type": "code",
   "execution_count": 5,
   "id": "f8900424",
   "metadata": {},
   "outputs": [],
   "source": [
    "import numpy as np\n",
    "import os\n",
    "import sys"
   ]
  },
  {
   "cell_type": "code",
   "execution_count": null,
   "id": "ab23d5af",
   "metadata": {},
   "outputs": [
    {
     "name": "stdout",
     "output_type": "stream",
     "text": [
      "label.npy\n",
      "1022.546875\n"
     ]
    }
   ],
   "source": []
  },
  {
   "cell_type": "code",
   "execution_count": 11,
   "id": "3de2502a",
   "metadata": {},
   "outputs": [],
   "source": [
    "def split_eeg_segments(data, segment_length=128, overlapping=0.5):\n",
    "    \"\"\"\n",
    "    Splits EEG data into overlapping segments.\n",
    "\n",
    "    Parameters:\n",
    "        data (numpy.ndarray): EEG data of shape (T, C), where T is the time dimension and C is the number of channels.\n",
    "        segment_length (int): Length of each segment.\n",
    "        overlapping (float): Overlap ratio between consecutive segments (0 to 1).\n",
    "\n",
    "    Returns:\n",
    "        numpy.ndarray: Segmented EEG data of shape (num_segments, segment_length, C).\n",
    "    \"\"\"\n",
    "    if overlapping < 0 or overlapping >= 1:\n",
    "        raise ValueError(\"Overlapping ratio must be between 0 and 1.\")\n",
    "    T, C = data.shape\n",
    "    step_size = int(segment_length * (1 - overlapping))  # Compute step size based on overlap\n",
    "    num_segments = (T - segment_length) // step_size + 1  # Compute the number of segments\n",
    "    segments = np.array([data[i:i + segment_length] for i in range(0, num_segments * step_size, step_size)])\n",
    "\n",
    "    return segments"
   ]
  },
  {
   "cell_type": "code",
   "execution_count": 13,
   "id": "ecfeaf08",
   "metadata": {},
   "outputs": [
    {
     "data": {
      "text/plain": [
       "((88, 2), (1805, 128, 19))"
      ]
     },
     "execution_count": 13,
     "metadata": {},
     "output_type": "execute_result"
    }
   ],
   "source": [
    "labels = np.load(\"../../Data/datasets/ADFTD/Label/label.npy\")\n",
    "feature = np.load(\"../../Data/datasets/ADFTD/Feature/feature_01.npy\")\n",
    "feature = split_eeg_segments(feature)\n",
    "labels.shape,feature.shape"
   ]
  },
  {
   "cell_type": "code",
   "execution_count": null,
   "id": "34af38dc",
   "metadata": {},
   "outputs": [],
   "source": []
  }
 ],
 "metadata": {
  "kernelspec": {
   "display_name": "EEG",
   "language": "python",
   "name": "python3"
  },
  "language_info": {
   "codemirror_mode": {
    "name": "ipython",
    "version": 3
   },
   "file_extension": ".py",
   "mimetype": "text/x-python",
   "name": "python",
   "nbconvert_exporter": "python",
   "pygments_lexer": "ipython3",
   "version": "3.13.5"
  }
 },
 "nbformat": 4,
 "nbformat_minor": 5
}
